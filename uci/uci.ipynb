{
 "cells": [
  {
   "cell_type": "markdown",
   "metadata": {},
   "source": [
    "## Imports "
   ]
  },
  {
   "cell_type": "code",
   "execution_count": 1,
   "metadata": {},
   "outputs": [],
   "source": [
    "import pandas as pd\n",
    "import numpy as np\n",
    "import matplotlib.pyplot as plt\n",
    "\n",
    "from sklearn.ensemble import RandomForestRegressor, RandomForestClassifier\n",
    "from sklearn.metrics import mean_squared_error, accuracy_score, f1_score, r2_score, explained_variance_score, roc_auc_score\n",
    "from sklearn.preprocessing import MinMaxScaler, OneHotEncoder, LabelBinarizer\n",
    "from sklearn.neural_network import MLPClassifier, MLPRegressor\n",
    "from sklearn.linear_model import Lasso\n",
    "\n",
    "import torch\n",
    "from torch import nn\n",
    "import torch.nn.functional as F\n",
    "\n",
    "from dp_wgan import Generator, Discriminator\n",
    "from dp_autoencoder import Autoencoder\n",
    "from evaluation import *\n",
    "import dp_optimizer, sampling, analysis, evaluation\n",
    "\n",
    "torch.manual_seed(0)\n",
    "np.random.seed(0)"
   ]
  },
  {
   "cell_type": "markdown",
   "metadata": {},
   "source": [
    "## Setup "
   ]
  },
  {
   "cell_type": "code",
   "execution_count": 8,
   "metadata": {},
   "outputs": [
    {
     "name": "stdout",
     "output_type": "stream",
     "text": [
      "GPU is available: True\n"
     ]
    }
   ],
   "source": [
    "print(f\"GPU is available: {torch.cuda.is_available()}\")"
   ]
  },
  {
   "cell_type": "markdown",
   "metadata": {},
   "source": [
    "## Load data "
   ]
  },
  {
   "cell_type": "code",
   "execution_count": 2,
   "metadata": {},
   "outputs": [
    {
     "data": {
      "text/html": [
       "<div>\n",
       "<style scoped>\n",
       "    .dataframe tbody tr th:only-of-type {\n",
       "        vertical-align: middle;\n",
       "    }\n",
       "\n",
       "    .dataframe tbody tr th {\n",
       "        vertical-align: top;\n",
       "    }\n",
       "\n",
       "    .dataframe thead th {\n",
       "        text-align: right;\n",
       "    }\n",
       "</style>\n",
       "<table border=\"1\" class=\"dataframe\">\n",
       "  <thead>\n",
       "    <tr style=\"text-align: right;\">\n",
       "      <th></th>\n",
       "      <th>age</th>\n",
       "      <th>workclass</th>\n",
       "      <th>fnlwgt</th>\n",
       "      <th>education</th>\n",
       "      <th>education-num</th>\n",
       "      <th>marital-status</th>\n",
       "      <th>occupation</th>\n",
       "      <th>relationship</th>\n",
       "      <th>race</th>\n",
       "      <th>sex</th>\n",
       "      <th>capital-gain</th>\n",
       "      <th>capital-loss</th>\n",
       "      <th>hours-per-week</th>\n",
       "      <th>native-country</th>\n",
       "      <th>salary</th>\n",
       "    </tr>\n",
       "  </thead>\n",
       "  <tbody>\n",
       "    <tr>\n",
       "      <th>0</th>\n",
       "      <td>39</td>\n",
       "      <td>State-gov</td>\n",
       "      <td>77516</td>\n",
       "      <td>Bachelors</td>\n",
       "      <td>13</td>\n",
       "      <td>Never-married</td>\n",
       "      <td>Adm-clerical</td>\n",
       "      <td>Not-in-family</td>\n",
       "      <td>White</td>\n",
       "      <td>Male</td>\n",
       "      <td>2174</td>\n",
       "      <td>0</td>\n",
       "      <td>40</td>\n",
       "      <td>United-States</td>\n",
       "      <td>&lt;=50K</td>\n",
       "    </tr>\n",
       "    <tr>\n",
       "      <th>1</th>\n",
       "      <td>50</td>\n",
       "      <td>Self-emp-not-inc</td>\n",
       "      <td>83311</td>\n",
       "      <td>Bachelors</td>\n",
       "      <td>13</td>\n",
       "      <td>Married-civ-spouse</td>\n",
       "      <td>Exec-managerial</td>\n",
       "      <td>Husband</td>\n",
       "      <td>White</td>\n",
       "      <td>Male</td>\n",
       "      <td>0</td>\n",
       "      <td>0</td>\n",
       "      <td>13</td>\n",
       "      <td>United-States</td>\n",
       "      <td>&lt;=50K</td>\n",
       "    </tr>\n",
       "    <tr>\n",
       "      <th>2</th>\n",
       "      <td>38</td>\n",
       "      <td>Private</td>\n",
       "      <td>215646</td>\n",
       "      <td>HS-grad</td>\n",
       "      <td>9</td>\n",
       "      <td>Divorced</td>\n",
       "      <td>Handlers-cleaners</td>\n",
       "      <td>Not-in-family</td>\n",
       "      <td>White</td>\n",
       "      <td>Male</td>\n",
       "      <td>0</td>\n",
       "      <td>0</td>\n",
       "      <td>40</td>\n",
       "      <td>United-States</td>\n",
       "      <td>&lt;=50K</td>\n",
       "    </tr>\n",
       "    <tr>\n",
       "      <th>3</th>\n",
       "      <td>53</td>\n",
       "      <td>Private</td>\n",
       "      <td>234721</td>\n",
       "      <td>11th</td>\n",
       "      <td>7</td>\n",
       "      <td>Married-civ-spouse</td>\n",
       "      <td>Handlers-cleaners</td>\n",
       "      <td>Husband</td>\n",
       "      <td>Black</td>\n",
       "      <td>Male</td>\n",
       "      <td>0</td>\n",
       "      <td>0</td>\n",
       "      <td>40</td>\n",
       "      <td>United-States</td>\n",
       "      <td>&lt;=50K</td>\n",
       "    </tr>\n",
       "    <tr>\n",
       "      <th>4</th>\n",
       "      <td>28</td>\n",
       "      <td>Private</td>\n",
       "      <td>338409</td>\n",
       "      <td>Bachelors</td>\n",
       "      <td>13</td>\n",
       "      <td>Married-civ-spouse</td>\n",
       "      <td>Prof-specialty</td>\n",
       "      <td>Wife</td>\n",
       "      <td>Black</td>\n",
       "      <td>Female</td>\n",
       "      <td>0</td>\n",
       "      <td>0</td>\n",
       "      <td>40</td>\n",
       "      <td>Cuba</td>\n",
       "      <td>&lt;=50K</td>\n",
       "    </tr>\n",
       "    <tr>\n",
       "      <th>...</th>\n",
       "      <td>...</td>\n",
       "      <td>...</td>\n",
       "      <td>...</td>\n",
       "      <td>...</td>\n",
       "      <td>...</td>\n",
       "      <td>...</td>\n",
       "      <td>...</td>\n",
       "      <td>...</td>\n",
       "      <td>...</td>\n",
       "      <td>...</td>\n",
       "      <td>...</td>\n",
       "      <td>...</td>\n",
       "      <td>...</td>\n",
       "      <td>...</td>\n",
       "      <td>...</td>\n",
       "    </tr>\n",
       "    <tr>\n",
       "      <th>16276</th>\n",
       "      <td>39</td>\n",
       "      <td>Private</td>\n",
       "      <td>215419</td>\n",
       "      <td>Bachelors</td>\n",
       "      <td>13</td>\n",
       "      <td>Divorced</td>\n",
       "      <td>Prof-specialty</td>\n",
       "      <td>Not-in-family</td>\n",
       "      <td>White</td>\n",
       "      <td>Female</td>\n",
       "      <td>0</td>\n",
       "      <td>0</td>\n",
       "      <td>36</td>\n",
       "      <td>United-States</td>\n",
       "      <td>&lt;=50K</td>\n",
       "    </tr>\n",
       "    <tr>\n",
       "      <th>16277</th>\n",
       "      <td>64</td>\n",
       "      <td>?</td>\n",
       "      <td>321403</td>\n",
       "      <td>HS-grad</td>\n",
       "      <td>9</td>\n",
       "      <td>Widowed</td>\n",
       "      <td>?</td>\n",
       "      <td>Other-relative</td>\n",
       "      <td>Black</td>\n",
       "      <td>Male</td>\n",
       "      <td>0</td>\n",
       "      <td>0</td>\n",
       "      <td>40</td>\n",
       "      <td>United-States</td>\n",
       "      <td>&lt;=50K</td>\n",
       "    </tr>\n",
       "    <tr>\n",
       "      <th>16278</th>\n",
       "      <td>38</td>\n",
       "      <td>Private</td>\n",
       "      <td>374983</td>\n",
       "      <td>Bachelors</td>\n",
       "      <td>13</td>\n",
       "      <td>Married-civ-spouse</td>\n",
       "      <td>Prof-specialty</td>\n",
       "      <td>Husband</td>\n",
       "      <td>White</td>\n",
       "      <td>Male</td>\n",
       "      <td>0</td>\n",
       "      <td>0</td>\n",
       "      <td>50</td>\n",
       "      <td>United-States</td>\n",
       "      <td>&lt;=50K</td>\n",
       "    </tr>\n",
       "    <tr>\n",
       "      <th>16279</th>\n",
       "      <td>44</td>\n",
       "      <td>Private</td>\n",
       "      <td>83891</td>\n",
       "      <td>Bachelors</td>\n",
       "      <td>13</td>\n",
       "      <td>Divorced</td>\n",
       "      <td>Adm-clerical</td>\n",
       "      <td>Own-child</td>\n",
       "      <td>Asian-Pac-Islander</td>\n",
       "      <td>Male</td>\n",
       "      <td>5455</td>\n",
       "      <td>0</td>\n",
       "      <td>40</td>\n",
       "      <td>United-States</td>\n",
       "      <td>&lt;=50K</td>\n",
       "    </tr>\n",
       "    <tr>\n",
       "      <th>16280</th>\n",
       "      <td>35</td>\n",
       "      <td>Self-emp-inc</td>\n",
       "      <td>182148</td>\n",
       "      <td>Bachelors</td>\n",
       "      <td>13</td>\n",
       "      <td>Married-civ-spouse</td>\n",
       "      <td>Exec-managerial</td>\n",
       "      <td>Husband</td>\n",
       "      <td>White</td>\n",
       "      <td>Male</td>\n",
       "      <td>0</td>\n",
       "      <td>0</td>\n",
       "      <td>60</td>\n",
       "      <td>United-States</td>\n",
       "      <td>&gt;50K</td>\n",
       "    </tr>\n",
       "  </tbody>\n",
       "</table>\n",
       "<p>48842 rows × 15 columns</p>\n",
       "</div>"
      ],
      "text/plain": [
       "       age          workclass  fnlwgt   education  education-num  \\\n",
       "0       39          State-gov   77516   Bachelors             13   \n",
       "1       50   Self-emp-not-inc   83311   Bachelors             13   \n",
       "2       38            Private  215646     HS-grad              9   \n",
       "3       53            Private  234721        11th              7   \n",
       "4       28            Private  338409   Bachelors             13   \n",
       "...    ...                ...     ...         ...            ...   \n",
       "16276   39            Private  215419   Bachelors             13   \n",
       "16277   64                  ?  321403     HS-grad              9   \n",
       "16278   38            Private  374983   Bachelors             13   \n",
       "16279   44            Private   83891   Bachelors             13   \n",
       "16280   35       Self-emp-inc  182148   Bachelors             13   \n",
       "\n",
       "            marital-status          occupation     relationship  \\\n",
       "0            Never-married        Adm-clerical    Not-in-family   \n",
       "1       Married-civ-spouse     Exec-managerial          Husband   \n",
       "2                 Divorced   Handlers-cleaners    Not-in-family   \n",
       "3       Married-civ-spouse   Handlers-cleaners          Husband   \n",
       "4       Married-civ-spouse      Prof-specialty             Wife   \n",
       "...                    ...                 ...              ...   \n",
       "16276             Divorced      Prof-specialty    Not-in-family   \n",
       "16277              Widowed                   ?   Other-relative   \n",
       "16278   Married-civ-spouse      Prof-specialty          Husband   \n",
       "16279             Divorced        Adm-clerical        Own-child   \n",
       "16280   Married-civ-spouse     Exec-managerial          Husband   \n",
       "\n",
       "                      race      sex  capital-gain  capital-loss  \\\n",
       "0                    White     Male          2174             0   \n",
       "1                    White     Male             0             0   \n",
       "2                    White     Male             0             0   \n",
       "3                    Black     Male             0             0   \n",
       "4                    Black   Female             0             0   \n",
       "...                    ...      ...           ...           ...   \n",
       "16276                White   Female             0             0   \n",
       "16277                Black     Male             0             0   \n",
       "16278                White     Male             0             0   \n",
       "16279   Asian-Pac-Islander     Male          5455             0   \n",
       "16280                White     Male             0             0   \n",
       "\n",
       "       hours-per-week  native-country  salary  \n",
       "0                  40   United-States   <=50K  \n",
       "1                  13   United-States   <=50K  \n",
       "2                  40   United-States   <=50K  \n",
       "3                  40   United-States   <=50K  \n",
       "4                  40            Cuba   <=50K  \n",
       "...               ...             ...     ...  \n",
       "16276              36   United-States   <=50K  \n",
       "16277              40   United-States   <=50K  \n",
       "16278              50   United-States   <=50K  \n",
       "16279              40   United-States   <=50K  \n",
       "16280              60   United-States    >50K  \n",
       "\n",
       "[48842 rows x 15 columns]"
      ]
     },
     "execution_count": 2,
     "metadata": {},
     "output_type": "execute_result"
    }
   ],
   "source": [
    "names = ['age', 'workclass', 'fnlwgt', 'education', 'education-num', 'marital-status', 'occupation', 'relationship', 'race', 'sex', 'capital-gain', 'capital-loss', 'hours-per-week', 'native-country', 'salary']\n",
    "train = pd.read_csv('adult.data', names=names)\n",
    "test = pd.read_csv('adult.test', names=names)\n",
    "\n",
    "df = pd.concat([train, test])\n",
    "\n",
    "df"
   ]
  },
  {
   "cell_type": "markdown",
   "metadata": {},
   "source": [
    "## Preprocess and split data "
   ]
  },
  {
   "cell_type": "markdown",
   "metadata": {},
   "source": [
    "### Preprocessing depending on data type "
   ]
  },
  {
   "cell_type": "code",
   "execution_count": 3,
   "metadata": {},
   "outputs": [],
   "source": [
    "class Processor:\n",
    "    def __init__(self, datatypes):\n",
    "        self.datatypes = datatypes\n",
    "        \n",
    "    def fit(self, matrix):\n",
    "        preprocessors, cutoffs = [], []\n",
    "        for i, (column, datatype) in enumerate(self.datatypes):\n",
    "            preprocessed_col = matrix[:,i].reshape(-1, 1)\n",
    "\n",
    "            if 'categorical' in datatype:\n",
    "                preprocessor = LabelBinarizer()\n",
    "            else:\n",
    "                preprocessor = MinMaxScaler()\n",
    "\n",
    "            preprocessed_col = preprocessor.fit_transform(preprocessed_col)\n",
    "            cutoffs.append(preprocessed_col.shape[1])\n",
    "            preprocessors.append(preprocessor)\n",
    "        \n",
    "        self.cutoffs = cutoffs\n",
    "        self.preprocessors = preprocessors\n",
    "    \n",
    "    def transform(self, matrix):\n",
    "        preprocessed_cols = []\n",
    "        \n",
    "        for i, (column, datatype) in enumerate(self.datatypes):\n",
    "            preprocessed_col = matrix[:,i].reshape(-1, 1)\n",
    "            preprocessed_col = self.preprocessors[i].transform(preprocessed_col)\n",
    "            preprocessed_cols.append(preprocessed_col)\n",
    "\n",
    "        return np.concatenate(preprocessed_cols, axis=1)\n",
    "\n",
    "        \n",
    "    def fit_transform(self, matrix):\n",
    "        self.fit(matrix)\n",
    "        return self.transform(matrix)\n",
    "            \n",
    "    def inverse_transform(self, matrix):\n",
    "        postprocessed_cols = []\n",
    "\n",
    "        j = 0\n",
    "        for i, (column, datatype) in enumerate(self.datatypes):\n",
    "            postprocessed_col = self.preprocessors[i].inverse_transform(matrix[:,j:j+self.cutoffs[i]])\n",
    "\n",
    "            if 'categorical' in datatype:\n",
    "                postprocessed_col = postprocessed_col.reshape(-1, 1)\n",
    "            else:\n",
    "                if 'positive' in datatype:\n",
    "                    postprocessed_col = postprocessed_col.clip(min=0)\n",
    "\n",
    "                if 'int' in datatype:\n",
    "                    postprocessed_col = postprocessed_col.round()\n",
    "\n",
    "            postprocessed_cols.append(postprocessed_col)\n",
    "            \n",
    "            j += self.cutoffs[i]\n",
    "        \n",
    "        return np.concatenate(postprocessed_cols, axis=1)\n",
    "\n",
    "\n",
    "datatypes = [\n",
    "    ('age', 'positive int'),\n",
    "    ('workclass', 'categorical'),\n",
    "    ('education-num', 'categorical'),\n",
    "    ('marital-status', 'categorical'),\n",
    "    ('occupation', 'categorical'),\n",
    "    ('relationship', 'categorical'),\n",
    "    ('race', 'categorical'),\n",
    "    ('sex', 'categorical binary'),\n",
    "    ('capital-gain', 'positive float'),\n",
    "    ('capital-loss', 'positive float'),\n",
    "    ('hours-per-week', 'positive int'),\n",
    "    ('native-country', 'categorical'),\n",
    "    ('salary', 'categorical binary'),\n",
    "]"
   ]
  },
  {
   "cell_type": "markdown",
   "metadata": {},
   "source": [
    "### Split preprocessed data "
   ]
  },
  {
   "cell_type": "code",
   "execution_count": 4,
   "metadata": {},
   "outputs": [
    {
     "name": "stdout",
     "output_type": "stream",
     "text": [
      "Shape of entire dataset: torch.Size([48842, 106])\n",
      "\n",
      "X train preview\n",
      "tensor([[0.3014, 0.0000, 0.0000,  ..., 0.0000, 0.0000, 0.0000],\n",
      "        [0.4521, 0.0000, 0.0000,  ..., 0.0000, 0.0000, 0.0000],\n",
      "        [0.2877, 0.0000, 0.0000,  ..., 0.0000, 0.0000, 0.0000],\n",
      "        ...,\n",
      "        [0.0685, 0.0000, 0.0000,  ..., 0.0000, 0.0000, 0.0000],\n",
      "        [0.4795, 0.0000, 0.0000,  ..., 0.0000, 0.0000, 1.0000],\n",
      "        [0.1096, 0.0000, 0.0000,  ..., 0.0000, 0.0000, 0.0000]])\n",
      "\n",
      "X test preview\n",
      "tensor([[0.2877, 0.0000, 0.0000,  ..., 0.0000, 0.0000, 0.0000],\n",
      "        [0.1507, 0.0000, 0.0000,  ..., 0.0000, 0.0000, 1.0000],\n",
      "        [0.3699, 0.0000, 0.0000,  ..., 0.0000, 0.0000, 1.0000],\n",
      "        ...,\n",
      "        [0.2877, 0.0000, 0.0000,  ..., 0.0000, 0.0000, 0.0000],\n",
      "        [0.3699, 0.0000, 0.0000,  ..., 0.0000, 0.0000, 0.0000],\n",
      "        [0.2466, 0.0000, 0.0000,  ..., 0.0000, 0.0000, 1.0000]])\n"
     ]
    }
   ],
   "source": [
    "processor = Processor(datatypes)\n",
    "\n",
    "relevant_df = df.drop(columns=['education', 'fnlwgt'])\n",
    "for column, datatype in datatypes:\n",
    "    if 'categorical' in datatype:\n",
    "        relevant_df[column] = relevant_df[column].astype('category').cat.codes\n",
    "        \n",
    "train_df = relevant_df.head(32562)\n",
    "\n",
    "X_real = torch.tensor(relevant_df.values.astype('float32'))\n",
    "X_encoded = torch.tensor(processor.fit_transform(X_real).astype('float32'))\n",
    "\n",
    "train_cutoff = 32562  # 2/3 of the whole data\n",
    "\n",
    "X_train_real = X_real[:train_cutoff]\n",
    "X_test_real = X_real[:train_cutoff]\n",
    "\n",
    "X_train_encoded = X_encoded[:train_cutoff]\n",
    "X_test_encoded = X_encoded[train_cutoff:]\n",
    "\n",
    "print(f\"Shape of entire dataset: {X_encoded.shape}\")\n",
    "print()\n",
    "print(\"X train preview\")\n",
    "print(X_train_encoded)\n",
    "print()\n",
    "print(\"X test preview\")\n",
    "print(X_test_encoded)"
   ]
  },
  {
   "cell_type": "code",
   "execution_count": 5,
   "metadata": {},
   "outputs": [
    {
     "name": "stdout",
     "output_type": "stream",
     "text": [
      "Any missing values? False\n"
     ]
    }
   ],
   "source": [
    "# Check if there's missing values\n",
    "def isnan(x):\n",
    "    return x != x\n",
    "print(f\"Any missing values? {isnan(X_encoded).any().item()}\")"
   ]
  },
  {
   "cell_type": "markdown",
   "metadata": {},
   "source": [
    "## Train AutoEncoder "
   ]
  },
  {
   "cell_type": "code",
   "execution_count": 6,
   "metadata": {},
   "outputs": [],
   "source": [
    "ae_params = {\n",
    "    'b1': 0.9,\n",
    "    'b2': 0.999,\n",
    "    'binary': False,\n",
    "    'compress_dim': 15,\n",
    "    'delta': 1e-5,\n",
    "    'device': 'cuda',\n",
    "    'iterations': 20000,  # Set to 20000 in their code\n",
    "    'lr': 0.005,\n",
    "    'l2_penalty': 0.,\n",
    "    'l2_norm_clip': 0.012,\n",
    "    'minibatch_size': 64,\n",
    "    'microbatch_size': 1,\n",
    "    'noise_multiplier': 2.5,\n",
    "    'nonprivate': True,\n",
    "}"
   ]
  },
  {
   "cell_type": "code",
   "execution_count": 7,
   "metadata": {},
   "outputs": [
    {
     "name": "stdout",
     "output_type": "stream",
     "text": [
      "Autoencoder(\n",
      "  (encoder): Sequential(\n",
      "    (0): Linear(in_features=106, out_features=60, bias=True)\n",
      "    (1): LeakyReLU(negative_slope=0.2)\n",
      "    (2): Linear(in_features=60, out_features=15, bias=True)\n",
      "    (3): LeakyReLU(negative_slope=0.2)\n",
      "  )\n",
      "  (decoder): Sequential(\n",
      "    (0): Linear(in_features=15, out_features=60, bias=True)\n",
      "    (1): LeakyReLU(negative_slope=0.2)\n",
      "    (2): Linear(in_features=60, out_features=106, bias=True)\n",
      "    (3): Sigmoid()\n",
      "  )\n",
      ")\n",
      "Achieves (0.5664574123252802, 1e-05)-DP\n",
      "[Iteration 2000/20000] [Loss: 0.059386] [Validation Loss: 0.061102]\n",
      "[Iteration 4000/20000] [Loss: 0.041160] [Validation Loss: 0.038103]\n",
      "[Iteration 6000/20000] [Loss: 0.032250] [Validation Loss: 0.031604]\n",
      "[Iteration 8000/20000] [Loss: 0.031379] [Validation Loss: 0.027945]\n",
      "[Iteration 10000/20000] [Loss: 0.021503] [Validation Loss: 0.026047]\n",
      "[Iteration 12000/20000] [Loss: 0.018871] [Validation Loss: 0.024144]\n",
      "[Iteration 14000/20000] [Loss: 0.023389] [Validation Loss: 0.022900]\n",
      "[Iteration 16000/20000] [Loss: 0.020470] [Validation Loss: 0.022201]\n",
      "[Iteration 18000/20000] [Loss: 0.020324] [Validation Loss: 0.021727]\n",
      "[Iteration 20000/20000] [Loss: 0.020514] [Validation Loss: 0.021070]\n"
     ]
    },
    {
     "data": {
      "text/plain": [
       "<matplotlib.axes._subplots.AxesSubplot at 0x2980c86fe88>"
      ]
     },
     "execution_count": 7,
     "metadata": {},
     "output_type": "execute_result"
    },
    {
     "data": {
      "image/png": "[encoded data removed]",
      "text/plain": [
       "<Figure size 432x288 with 1 Axes>"
      ]
     },
     "metadata": {
      "needs_background": "light"
     },
     "output_type": "display_data"
    }
   ],
   "source": [
    "autoencoder = Autoencoder(\n",
    "    example_dim=len(X_train_encoded[0]),\n",
    "    compression_dim=ae_params['compress_dim'],\n",
    "    binary=ae_params['binary'],\n",
    "    device=ae_params['device'],\n",
    ")\n",
    "\n",
    "decoder_optimizer = dp_optimizer.DPAdam(\n",
    "    l2_norm_clip=ae_params['l2_norm_clip'],\n",
    "    noise_multiplier=ae_params['noise_multiplier'],\n",
    "    minibatch_size=ae_params['minibatch_size'],\n",
    "    microbatch_size=ae_params['microbatch_size'],\n",
    "    nonprivate=ae_params['nonprivate'],\n",
    "    params=autoencoder.get_decoder().parameters(),\n",
    "    lr=ae_params['lr'],\n",
    "    betas=(ae_params['b1'], ae_params['b2']),\n",
    "    weight_decay=ae_params['l2_penalty'],\n",
    ")\n",
    "\n",
    "encoder_optimizer = torch.optim.Adam(\n",
    "    params=autoencoder.get_encoder().parameters(),\n",
    "    lr=ae_params['lr'] * ae_params['microbatch_size'] / ae_params['minibatch_size'],\n",
    "    betas=(ae_params['b1'], ae_params['b2']),\n",
    "    weight_decay=ae_params['l2_penalty'],\n",
    ")\n",
    "\n",
    "weights, ds = [], []\n",
    "for name, datatype in datatypes:\n",
    "    if 'categorical' in datatype:\n",
    "        num_values = len(np.unique(relevant_df[name]))\n",
    "        if num_values == 2:\n",
    "            weights.append(1.)\n",
    "            ds.append((datatype, 1))\n",
    "        else:\n",
    "            for i in range(num_values):\n",
    "                weights.append(1. / num_values)\n",
    "            ds.append((datatype, num_values))\n",
    "    else:\n",
    "        weights.append(1.)\n",
    "        ds.append((datatype, 1))\n",
    "weights = torch.tensor(weights).to(ae_params['device'])\n",
    "\n",
    "#autoencoder_loss = (lambda input, target: torch.mul(weights, torch.pow(input-target, 2)).sum(dim=1).mean(dim=0))\n",
    "#autoencoder_loss = lambda input, target: torch.mul(weights, F.binary_cross_entropy(input, target, reduction='none')).sum(dim=1).mean(dim=0)\n",
    "autoencoder_loss = nn.BCELoss()\n",
    "#autoencoder_loss = nn.MSELoss()\n",
    "\n",
    "print(autoencoder)\n",
    "\n",
    "print('Achieves ({}, {})-DP'.format(\n",
    "    analysis.epsilon(\n",
    "        len(X_train_encoded),\n",
    "        ae_params['minibatch_size'],\n",
    "        ae_params['noise_multiplier'],\n",
    "        ae_params['iterations'],\n",
    "        ae_params['delta']\n",
    "    ),\n",
    "    ae_params['delta'],\n",
    "))\n",
    "\n",
    "minibatch_loader, microbatch_loader = sampling.get_data_loaders(\n",
    "    minibatch_size=ae_params['minibatch_size'],\n",
    "    microbatch_size=ae_params['microbatch_size'],\n",
    "    iterations=ae_params['iterations'],\n",
    "    nonprivate=ae_params['nonprivate'],\n",
    ")\n",
    "\n",
    "train_losses, validation_losses = [], []\n",
    "\n",
    "X_train_encoded = X_train_encoded.to(ae_params['device'])\n",
    "X_test_encoded = X_test_encoded.to(ae_params['device'])\n",
    "\n",
    "for iteration, X_minibatch in enumerate(minibatch_loader(X_train_encoded)):\n",
    "    \n",
    "    encoder_optimizer.zero_grad()\n",
    "    decoder_optimizer.zero_grad()\n",
    "    \n",
    "    for X_microbatch in microbatch_loader(X_minibatch):\n",
    "\n",
    "        decoder_optimizer.zero_microbatch_grad()\n",
    "        output = autoencoder(X_microbatch)\n",
    "        loss = autoencoder_loss(output, X_microbatch)\n",
    "        loss.backward()\n",
    "        decoder_optimizer.microbatch_step()\n",
    "        \n",
    "    validation_loss = autoencoder_loss(autoencoder(X_test_encoded).detach(), X_test_encoded)\n",
    "    \n",
    "    encoder_optimizer.step()\n",
    "    decoder_optimizer.step()\n",
    "\n",
    "    train_losses.append(loss.item())\n",
    "    validation_losses.append(validation_loss.item())\n",
    "\n",
    "    if (iteration + 1) % (ae_params[\"iterations\"] // 10) == 0:\n",
    "        print ('[Iteration %d/%d] [Loss: %f] [Validation Loss: %f]' % (\n",
    "            iteration + 1, ae_params['iterations'], loss.item(), validation_loss.item())\n",
    "        )\n",
    "\n",
    "pd.DataFrame(data={'train': train_losses, 'validation': validation_losses}).plot()"
   ]
  },
  {
   "cell_type": "code",
   "execution_count": 9,
   "metadata": {},
   "outputs": [],
   "source": [
    "# Save autoencoder model\n",
    "with open('ae_eps_inf.dat', 'wb') as f:\n",
    "    torch.save(autoencoder, f)"
   ]
  },
  {
   "cell_type": "markdown",
   "metadata": {},
   "source": [
    "## Train GAN "
   ]
  },
  {
   "cell_type": "code",
   "execution_count": 10,
   "metadata": {},
   "outputs": [],
   "source": [
    "gan_params = {\n",
    "    'alpha': 0.99,\n",
    "    'binary': False,\n",
    "    'clip_value': 0.01,\n",
    "    'd_updates': 15,\n",
    "    'delta': 1e-5,\n",
    "    'device': 'cuda',\n",
    "    'iterations': 15000,  # Set to 15000 in their code\n",
    "    'latent_dim': 64,\n",
    "    'lr': 0.005,\n",
    "    'l2_penalty': 0.,\n",
    "    'l2_norm_clip': 0.022,\n",
    "    'minibatch_size': 128,\n",
    "    'microbatch_size': 1,\n",
    "    'noise_multiplier': 3.5,\n",
    "    'nonprivate': False,\n",
    "}"
   ]
  },
  {
   "cell_type": "code",
   "execution_count": 11,
   "metadata": {
    "scrolled": true
   },
   "outputs": [
    {
     "name": "stdout",
     "output_type": "stream",
     "text": [
      "Generator(\n",
      "  (block_0): Sequential(\n",
      "    (0): Linear(in_features=64, out_features=64, bias=False)\n",
      "    (1): LayerNorm((64,), eps=1e-05, elementwise_affine=True)\n",
      "    (2): LeakyReLU(negative_slope=0.2)\n",
      "  )\n",
      "  (block_1): Sequential(\n",
      "    (0): Linear(in_features=64, out_features=64, bias=False)\n",
      "    (1): LayerNorm((64,), eps=1e-05, elementwise_affine=True)\n",
      "    (2): LeakyReLU(negative_slope=0.2)\n",
      "  )\n",
      "  (block_2): Sequential(\n",
      "    (0): Linear(in_features=64, out_features=15, bias=False)\n",
      "    (1): LayerNorm((15,), eps=1e-05, elementwise_affine=True)\n",
      "    (2): LeakyReLU(negative_slope=0.2)\n",
      "  )\n",
      ")\n",
      "Discriminator(\n",
      "  (model): Sequential(\n",
      "    (0): Linear(in_features=106, out_features=70, bias=True)\n",
      "    (1): LeakyReLU(negative_slope=0.2)\n",
      "    (2): Linear(in_features=70, out_features=35, bias=True)\n",
      "    (3): LeakyReLU(negative_slope=0.2)\n",
      "    (4): Linear(in_features=35, out_features=1, bias=True)\n",
      "  )\n",
      ")\n",
      "Achieves (0.687574376936809, 1e-05)-DP\n",
      "[Iteration 1500/15000] [D loss: -0.000015] [G loss: -0.001485]\n"
     ]
    },
    {
     "data": {
      "image/png": "[encoded data removed]",
      "text/plain": [
       "<Figure size 432x288 with 1 Axes>"
      ]
     },
     "metadata": {
      "needs_background": "light"
     },
     "output_type": "display_data"
    },
    {
     "name": "stdout",
     "output_type": "stream",
     "text": [
      "[Iteration 3000/15000] [D loss: 0.000014] [G loss: -0.009934]\n"
     ]
    },
    {
     "data": {
      "image/png": "[encoded data removed]",
      "text/plain": [
       "<Figure size 432x288 with 1 Axes>"
      ]
     },
     "metadata": {
      "needs_background": "light"
     },
     "output_type": "display_data"
    },
    {
     "name": "stdout",
     "output_type": "stream",
     "text": [
      "[Iteration 4500/15000] [D loss: -0.000055] [G loss: -0.009173]\n"
     ]
    },
    {
     "data": {
      "image/png": "[encoded data removed]",
      "text/plain": [
       "<Figure size 432x288 with 1 Axes>"
      ]
     },
     "metadata": {
      "needs_background": "light"
     },
     "output_type": "display_data"
    },
    {
     "name": "stdout",
     "output_type": "stream",
     "text": [
      "[Iteration 6000/15000] [D loss: -0.000032] [G loss: 0.001751]\n"
     ]
    },
    {
     "data": {
      "image/png": "[encoded data removed]",
      "text/plain": [
       "<Figure size 432x288 with 1 Axes>"
      ]
     },
     "metadata": {
      "needs_background": "light"
     },
     "output_type": "display_data"
    },
    {
     "name": "stdout",
     "output_type": "stream",
     "text": [
      "[Iteration 7500/15000] [D loss: -0.000001] [G loss: 0.004372]\n"
     ]
    },
    {
     "data": {
      "image/png": "[encoded data removed]",
      "text/plain": [
       "<Figure size 432x288 with 1 Axes>"
      ]
     },
     "metadata": {
      "needs_background": "light"
     },
     "output_type": "display_data"
    },
    {
     "name": "stdout",
     "output_type": "stream",
     "text": [
      "[Iteration 9000/15000] [D loss: 0.000021] [G loss: -0.001292]\n"
     ]
    },
    {
     "data": {
      "image/png": "[encoded data removed]",
      "text/plain": [
       "<Figure size 432x288 with 1 Axes>"
      ]
     },
     "metadata": {
      "needs_background": "light"
     },
     "output_type": "display_data"
    },
    {
     "name": "stdout",
     "output_type": "stream",
     "text": [
      "[Iteration 10500/15000] [D loss: 0.000010] [G loss: -0.010249]\n"
     ]
    },
    {
     "data": {
      "image/png": "[encoded data removed]",
      "text/plain": [
       "<Figure size 432x288 with 1 Axes>"
      ]
     },
     "metadata": {
      "needs_background": "light"
     },
     "output_type": "display_data"
    },
    {
     "name": "stdout",
     "output_type": "stream",
     "text": [
      "[Iteration 12000/15000] [D loss: -0.000054] [G loss: -0.009911]\n"
     ]
    },
    {
     "data": {
      "image/png": "[encoded data removed]",
      "text/plain": [
       "<Figure size 432x288 with 1 Axes>"
      ]
     },
     "metadata": {
      "needs_background": "light"
     },
     "output_type": "display_data"
    },
    {
     "name": "stdout",
     "output_type": "stream",
     "text": [
      "[Iteration 13500/15000] [D loss: -0.000024] [G loss: -0.000159]\n"
     ]
    },
    {
     "data": {
      "image/png": "[encoded data removed]",
      "text/plain": [
       "<Figure size 432x288 with 1 Axes>"
      ]
     },
     "metadata": {
      "needs_background": "light"
     },
     "output_type": "display_data"
    },
    {
     "name": "stdout",
     "output_type": "stream",
     "text": [
      "[Iteration 15000/15000] [D loss: 0.000009] [G loss: 0.000563]\n"
     ]
    },
    {
     "data": {
      "image/png": "[encoded data removed]",
      "text/plain": [
       "<Figure size 432x288 with 1 Axes>"
      ]
     },
     "metadata": {
      "needs_background": "light"
     },
     "output_type": "display_data"
    }
   ],
   "source": [
    "with open('ae_eps_inf.dat', 'rb') as f:\n",
    "    autoencoder = torch.load(f)\n",
    "decoder = autoencoder.get_decoder()\n",
    "    \n",
    "generator = Generator(\n",
    "    input_dim=gan_params['latent_dim'],\n",
    "    output_dim=autoencoder.get_compression_dim(),\n",
    "    binary=gan_params['binary'],\n",
    "    device=gan_params['device'],\n",
    ")\n",
    "\n",
    "g_optimizer = torch.optim.RMSprop(\n",
    "    params=generator.parameters(),\n",
    "    lr=gan_params['lr'],\n",
    "    alpha=gan_params['alpha'],\n",
    "    weight_decay=gan_params['l2_penalty'],\n",
    ")\n",
    "\n",
    "discriminator = Discriminator(\n",
    "    input_dim=len(X_train_encoded[0]),\n",
    "    device=gan_params['device'],\n",
    ")\n",
    "\n",
    "d_optimizer = dp_optimizer.DPRMSprop(\n",
    "    l2_norm_clip=gan_params['l2_norm_clip'],\n",
    "    noise_multiplier=gan_params['noise_multiplier'],\n",
    "    minibatch_size=gan_params['minibatch_size'],\n",
    "    microbatch_size=gan_params['microbatch_size'],\n",
    "    nonprivate=gan_params['nonprivate'],\n",
    "    params=discriminator.parameters(),\n",
    "    lr=gan_params['lr'],\n",
    "    alpha=gan_params['alpha'],\n",
    "    weight_decay=gan_params['l2_penalty'],\n",
    ")\n",
    "\n",
    "print(generator)\n",
    "print(discriminator)\n",
    "\n",
    "print('Achieves ({}, {})-DP'.format(\n",
    "    analysis.epsilon(\n",
    "        len(X_train_encoded),\n",
    "        gan_params['minibatch_size'],\n",
    "        gan_params['noise_multiplier'],\n",
    "        gan_params['iterations'],\n",
    "        gan_params['delta']\n",
    "    ),\n",
    "    gan_params['delta'],\n",
    "))\n",
    "\n",
    "minibatch_loader, microbatch_loader = sampling.get_data_loaders(\n",
    "    minibatch_size=gan_params['minibatch_size'],\n",
    "    microbatch_size=gan_params['microbatch_size'],\n",
    "    iterations=gan_params['iterations'],\n",
    "    nonprivate=gan_params['nonprivate'],\n",
    ")\n",
    "\n",
    "X_train_encoded = X_train_encoded.to(gan_params['device'])\n",
    "X_test_encoded = X_test_encoded.to(ae_params['device'])\n",
    "\n",
    "for iteration, X_minibatch in enumerate(minibatch_loader(X_train_encoded)):\n",
    "    \n",
    "    d_optimizer.zero_grad()\n",
    "    \n",
    "    for real in microbatch_loader(X_minibatch):\n",
    "        z = torch.randn(real.size(0), gan_params['latent_dim'], device=gan_params['device'])\n",
    "        fake = decoder(generator(z)).detach()\n",
    "        \n",
    "        d_optimizer.zero_microbatch_grad()\n",
    "        d_loss = -torch.mean(discriminator(real)) + torch.mean(discriminator(fake))\n",
    "        d_loss.backward()\n",
    "        d_optimizer.microbatch_step()\n",
    "    \n",
    "    d_optimizer.step()\n",
    "\n",
    "    for parameter in discriminator.parameters():\n",
    "        parameter.data.clamp_(-gan_params['clip_value'], gan_params['clip_value'])\n",
    "\n",
    "    if iteration % gan_params['d_updates'] == 0:\n",
    "        z = torch.randn(X_minibatch.size(0), gan_params['latent_dim'], device=gan_params['device'])\n",
    "        fake = decoder(generator(z))\n",
    "\n",
    "        g_optimizer.zero_grad()\n",
    "        g_loss = -torch.mean(discriminator(fake))\n",
    "        g_loss.backward()\n",
    "        g_optimizer.step()\n",
    "\n",
    "    if (iteration + 1) % (gan_params[\"iterations\"] // 10) == 0:\n",
    "        print('[Iteration %d/%d] [D loss: %f] [G loss: %f]' % (\n",
    "            iteration + 1, gan_params['iterations'], d_loss.item(), g_loss.item()\n",
    "        ))\n",
    "        \n",
    "        z = torch.randn(len(X_train_real), gan_params['latent_dim'], device=gan_params['device'])\n",
    "        X_synthetic_encoded = decoder(generator(z)).cpu().detach().numpy()\n",
    "        X_synthetic_real = processor.inverse_transform(X_synthetic_encoded)\n",
    "        X_synthetic_encoded = processor.transform(X_synthetic_real)\n",
    "        synthetic_data = pd.DataFrame(X_synthetic_real, columns=relevant_df.columns)\n",
    "\n",
    "        i = 0\n",
    "        columns = relevant_df.columns\n",
    "        relevant_df[columns[i]].hist()\n",
    "        synthetic_data[columns[i]].hist()\n",
    "        plt.show()\n",
    "                \n",
    "        #pca_evaluation(pd.DataFrame(X_train_real), pd.DataFrame(X_synthetic_real))\n",
    "        #plt.show()\n"
   ]
  },
  {
   "cell_type": "code",
   "execution_count": 12,
   "metadata": {},
   "outputs": [],
   "source": [
    "# Save generator model\n",
    "with open('gen_eps_inf.dat', 'wb') as f:\n",
    "    torch.save(generator, f)"
   ]
  },
  {
   "cell_type": "markdown",
   "metadata": {},
   "source": [
    "### Check RF classifier test accuracy on \"salary\" target"
   ]
  },
  {
   "cell_type": "code",
   "execution_count": 13,
   "metadata": {
    "scrolled": false
   },
   "outputs": [
    {
     "name": "stdout",
     "output_type": "stream",
     "text": [
      "Accuracy: 0.8442874692874693\n",
      "F1-score: 0.6487460163502842\n"
     ]
    }
   ],
   "source": [
    "X_train_encoded = X_train_encoded.cpu()\n",
    "X_test_encoded = X_test_encoded.cpu()\n",
    "\n",
    "clf = RandomForestClassifier(n_estimators=100)\n",
    "clf.fit(X_train_encoded[:,:-1], X_train_encoded[:,-1])\n",
    "prediction = clf.predict(X_test_encoded[:,:-1])\n",
    "\n",
    "print(f\"Accuracy: {accuracy_score(X_test_encoded[:,-1], prediction)}\")\n",
    "print(f\"F1-score: {f1_score(X_test_encoded[:,-1], prediction)}\")"
   ]
  },
  {
   "cell_type": "markdown",
   "metadata": {},
   "source": [
    "## Synthetic data "
   ]
  },
  {
   "cell_type": "markdown",
   "metadata": {},
   "source": [
    "### Generation "
   ]
  },
  {
   "cell_type": "code",
   "execution_count": 14,
   "metadata": {},
   "outputs": [],
   "source": [
    "with open('gen_eps_inf.dat', 'rb') as f:\n",
    "    generator = torch.load(f)\n",
    "    \n",
    "with open('ae_eps_inf.dat', 'rb') as f:\n",
    "    autoencoder = torch.load(f)\n",
    "decoder = autoencoder.get_decoder()\n",
    "\n",
    "z = torch.randn(len(X_train_real), gan_params['latent_dim'], device=gan_params['device'])\n",
    "X_synthetic_encoded = decoder(generator(z)).cpu().detach().numpy()\n",
    "X_synthetic_real = processor.inverse_transform(X_synthetic_encoded)\n",
    "X_synthetic_encoded = processor.transform(X_synthetic_real)\n",
    "\n",
    "#pd.DataFrame(X_encoded.numpy()).to_csv('real.csv')\n",
    "pd.DataFrame(X_synthetic_encoded).to_csv('synthetic.csv')"
   ]
  },
  {
   "cell_type": "markdown",
   "metadata": {},
   "source": [
    "### Check RF classifier accuracy on test_real when fitted on synthetic"
   ]
  },
  {
   "cell_type": "code",
   "execution_count": 15,
   "metadata": {
    "scrolled": true
   },
   "outputs": [
    {
     "name": "stdout",
     "output_type": "stream",
     "text": [
      "Accuracy: 0.7906633906633906\n",
      "F1-score: 0.33748055987558323\n"
     ]
    }
   ],
   "source": [
    "with open('gen_eps_inf.dat', 'rb') as f:\n",
    "    generator = torch.load(f)\n",
    "    \n",
    "with open('ae_eps_inf.dat', 'rb') as f:\n",
    "    autoencoder = torch.load(f)\n",
    "decoder = autoencoder.get_decoder()\n",
    "    \n",
    "X_test_encoded = X_test_encoded.cpu()\n",
    "\n",
    "z = torch.randn(len(X_train_real), gan_params['latent_dim'], device=gan_params['device'])\n",
    "X_synthetic_encoded = decoder(generator(z)).cpu().detach().numpy()\n",
    "\n",
    "X_synthetic_real = processor.inverse_transform(X_synthetic_encoded)\n",
    "X_synthetic_encoded = processor.transform(X_synthetic_real)\n",
    "\n",
    "clf = RandomForestClassifier(n_estimators=100)\n",
    "clf.fit(X_synthetic_encoded[:,:-1], X_synthetic_encoded[:,-1])\n",
    "prediction = clf.predict(X_test_encoded[:,:-1])\n",
    "\n",
    "print(f\"Accuracy: {accuracy_score(X_test_encoded[:,-1], prediction)}\")\n",
    "print(f\"F1-score: {f1_score(X_test_encoded[:,-1], prediction)}\")"
   ]
  },
  {
   "cell_type": "markdown",
   "metadata": {},
   "source": [
    "### Histogram of \"Age\" distribution in synthetic vs real"
   ]
  },
  {
   "cell_type": "code",
   "execution_count": 22,
   "metadata": {},
   "outputs": [
    {
     "data": {
      "image/png": "[encoded data removed]",
      "text/plain": [
       "<Figure size 432x288 with 1 Axes>"
      ]
     },
     "metadata": {
      "needs_background": "light"
     },
     "output_type": "display_data"
    }
   ],
   "source": [
    "with open('gen_eps_inf.dat', 'rb') as f:\n",
    "    generator = torch.load(f)\n",
    "    \n",
    "with open('ae_eps_inf.dat', 'rb') as f:\n",
    "    autoencoder = torch.load(f)\n",
    "decoder = autoencoder.get_decoder()\n",
    "\n",
    "z = torch.randn(len(X_train_real), gan_params['latent_dim'], device=gan_params['device'])\n",
    "X_synthetic_encoded = decoder(generator(z)).cpu().detach().numpy()\n",
    "X_synthetic_real = processor.inverse_transform(X_synthetic_encoded)\n",
    "synthetic_data = pd.DataFrame(X_synthetic_real, columns=relevant_df.columns)\n",
    "\n",
    "column = 'age'\n",
    "fig = plt.figure()\n",
    "ax = fig.add_subplot()\n",
    "ax.hist(train_df[column].values,)# bins=)\n",
    "ax.hist(synthetic_data[column].values, color='red', alpha=0.35,)# bins10)\n",
    "plt.show()"
   ]
  },
  {
   "cell_type": "markdown",
   "metadata": {},
   "source": [
    "### Dimension-wise prediction scatterplot"
   ]
  },
  {
   "cell_type": "code",
   "execution_count": 24,
   "metadata": {},
   "outputs": [
    {
     "name": "stdout",
     "output_type": "stream",
     "text": [
      "age positive int\n",
      "r2_score\n",
      "Real: 0.2818276514546748\n",
      "Synthetic: 0.2786631546336934\n",
      "\n",
      "workclass categorical\n",
      "f1_score\n",
      "Real: 0.7128378378378378\n",
      "Synthetic: 0.6600737100737101\n",
      "\n",
      "education-num categorical\n",
      "f1_score\n",
      "Real: 0.3343980343980344\n",
      "Synthetic: 0.2715601965601966\n",
      "\n",
      "marital-status categorical\n",
      "f1_score\n",
      "Real: 0.8164619164619163\n",
      "Synthetic: 0.7409705159705159\n",
      "\n",
      "occupation categorical\n",
      "f1_score\n",
      "Real: 0.31769041769041767\n",
      "Synthetic: 0.1340909090909091\n",
      "\n",
      "relationship categorical\n",
      "f1_score\n",
      "Real: 0.7598280098280098\n",
      "Synthetic: 0.5329238329238329\n",
      "\n",
      "race categorical\n",
      "f1_score\n",
      "Real: 0.8405405405405405\n",
      "Synthetic: 0.7537469287469287\n",
      "\n",
      "sex categorical binary\n",
      "f1_score\n",
      "Real: 0.8675149700598803\n",
      "Synthetic: 0.7299452188533927\n",
      "\n",
      "capital-gain positive float\n",
      "r2_score\n",
      "Real: 0.0842600819364091\n",
      "Synthetic: -1.0244584738125297\n",
      "\n",
      "capital-loss positive float\n",
      "r2_score\n",
      "Real: 0.025128599655994677\n",
      "Synthetic: -0.11394951754211347\n",
      "\n",
      "hours-per-week positive int\n",
      "r2_score\n",
      "Real: 0.03869403234808988\n",
      "Synthetic: -0.04880653800769119\n",
      "\n",
      "native-country categorical\n",
      "f1_score\n",
      "Real: 0.8840294840294839\n",
      "Synthetic: 0.8707616707616707\n",
      "\n",
      "salary categorical binary\n",
      "f1_score\n",
      "Real: 0.6356016479613582\n",
      "Synthetic: 0.3071101374228241\n",
      "\n"
     ]
    },
    {
     "data": {
      "image/png": "[encoded data removed]",
      "text/plain": [
       "<Figure size 432x288 with 1 Axes>"
      ]
     },
     "metadata": {
      "needs_background": "light"
     },
     "output_type": "display_data"
    }
   ],
   "source": [
    "with open('gen_eps_inf.dat', 'rb') as f:\n",
    "    generator = torch.load(f)\n",
    "    \n",
    "with open('ae_eps_inf.dat', 'rb') as f:\n",
    "    autoencoder = torch.load(f)\n",
    "decoder = autoencoder.get_decoder()\n",
    "\n",
    "z = torch.randn(len(X_train_real), gan_params['latent_dim'], device=gan_params['device'])\n",
    "X_synthetic_encoded = decoder(generator(z)).cpu().detach().numpy()\n",
    "X_synthetic_real = processor.inverse_transform(X_synthetic_encoded)\n",
    "synthetic_data = pd.DataFrame(X_synthetic_real, columns=relevant_df.columns)\n",
    "\n",
    "regression_real = []\n",
    "classification_real = []\n",
    "regression_synthetic = []\n",
    "classification_synthetic = []\n",
    "target_real = []\n",
    "target_synthetic = []\n",
    "\n",
    "for column, datatype in datatypes:\n",
    "    p = Processor([datatype for datatype in datatypes if datatype[0] != column])\n",
    "    \n",
    "    train_cutoff = 32562\n",
    "    \n",
    "    p.fit(relevant_df.drop(columns=[column]).values)\n",
    "\n",
    "    X_enc = p.transform(relevant_df.drop(columns=[column]).values)\n",
    "    y_enc = relevant_df[column]\n",
    "\n",
    "    X_enc_train = X_enc[:train_cutoff]\n",
    "    X_enc_test = X_enc[train_cutoff:]\n",
    "    \n",
    "    y_enc_train = y_enc[:train_cutoff]\n",
    "    y_enc_test = y_enc[train_cutoff:]\n",
    "\n",
    "    X_enc_syn = p.transform(synthetic_data.drop(columns=[column]).values)\n",
    "    y_enc_syn = synthetic_data[column]\n",
    "        \n",
    "    if 'binary' in datatype:\n",
    "        model = lambda: RandomForestClassifier(n_estimators=10)\n",
    "        score = lambda true, pred: f1_score(true, pred)\n",
    "        score.__name__ = \"f1_score\"\n",
    "    elif 'categorical' in datatype:\n",
    "        model = lambda: RandomForestClassifier(n_estimators=10)\n",
    "        score = lambda true, pred: f1_score(true, pred, average='micro')\n",
    "        score.__name__ = \"f1_score\"\n",
    "    else:\n",
    "        model = lambda: Lasso()\n",
    "        explained_var = lambda true, pred: explained_variance_score(true, pred)\n",
    "        score = r2_score\n",
    "     \n",
    "    real, synthetic = model(), model()\n",
    "    \n",
    "    real.fit(X_enc_train, y_enc_train)\n",
    "    synthetic.fit(X_enc_syn, y_enc_syn)\n",
    "    \n",
    "    real_preds = real.predict(X_enc_test)\n",
    "    synthetic_preds = synthetic.predict(X_enc_test)\n",
    "    \n",
    "    print(column, datatype)\n",
    "    if column == 'salary':\n",
    "        target_real.append(score(y_enc_test, real_preds))\n",
    "        target_synthetic.append(score(y_enc_test, synthetic_preds))\n",
    "    elif 'categorical' in datatype:\n",
    "        classification_real.append(score(y_enc_test, real_preds))\n",
    "        classification_synthetic.append(score(y_enc_test, synthetic_preds))\n",
    "    else:\n",
    "        regression_real.append(score(y_enc_test, real_preds))\n",
    "        regression_synthetic.append(score(y_enc_test, synthetic_preds))\n",
    "    \n",
    "    print(score.__name__)\n",
    "    print('Real: {}'.format(score(y_enc_test, real_preds)))\n",
    "    print('Synthetic: {}'.format(score(y_enc_test, synthetic_preds)))\n",
    "    print('')\n",
    "    \n",
    "plt.scatter(classification_real, classification_synthetic, c='blue')\n",
    "plt.scatter(regression_real, regression_synthetic, c='red')\n",
    "plt.scatter(target_real, target_synthetic, c='green')\n",
    "plt.xlabel('Real Data')\n",
    "plt.ylabel('Synthetic Data')\n",
    "plt.axis((0., 1., 0., 1.))\n",
    "plt.plot((0, 1), (0, 1))\n",
    "plt.show()"
   ]
  },
  {
   "cell_type": "code",
   "execution_count": null,
   "metadata": {},
   "outputs": [],
   "source": []
  }
 ],
 "metadata": {
  "kernelspec": {
   "display_name": "Python 3",
   "language": "python",
   "name": "python3"
  },
  "language_info": {
   "codemirror_mode": {
    "name": "ipython",
    "version": 3
   },
   "file_extension": ".py",
   "mimetype": "text/x-python",
   "name": "python",
   "nbconvert_exporter": "python",
   "pygments_lexer": "ipython3",
   "version": "3.7.6"
  }
 },
 "nbformat": 4,
 "nbformat_minor": 2
}
